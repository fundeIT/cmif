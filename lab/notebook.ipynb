{
 "cells": [
  {
   "cell_type": "markdown",
   "metadata": {},
   "source": [
    "# Procurement"
   ]
  },
  {
   "cell_type": "code",
   "execution_count": 5,
   "metadata": {},
   "outputs": [],
   "source": [
    "import pandas as pd\n",
    "import requests\n",
    "import re\n",
    "from lxml import html"
   ]
  },
  {
   "cell_type": "markdown",
   "metadata": {},
   "source": [
    "## Offices"
   ]
  },
  {
   "cell_type": "code",
   "execution_count": 6,
   "metadata": {},
   "outputs": [],
   "source": [
    "def normalize_acronym(acron):\n",
    "    aux = re.sub(r'[^\\w]', ' ', acron)\n",
    "    aux = re.sub(r'\\s+', '-', aux)\n",
    "    return aux.lower()"
   ]
  },
  {
   "cell_type": "code",
   "execution_count": 7,
   "metadata": {},
   "outputs": [
    {
     "data": {
      "text/html": [
       "<div>\n",
       "<style scoped>\n",
       "    .dataframe tbody tr th:only-of-type {\n",
       "        vertical-align: middle;\n",
       "    }\n",
       "\n",
       "    .dataframe tbody tr th {\n",
       "        vertical-align: top;\n",
       "    }\n",
       "\n",
       "    .dataframe thead th {\n",
       "        text-align: right;\n",
       "    }\n",
       "</style>\n",
       "<table border=\"1\" class=\"dataframe\">\n",
       "  <thead>\n",
       "    <tr style=\"text-align: right;\">\n",
       "      <th></th>\n",
       "      <th>name</th>\n",
       "      <th>acronym</th>\n",
       "      <th>key</th>\n",
       "    </tr>\n",
       "  </thead>\n",
       "  <tbody>\n",
       "    <tr>\n",
       "      <th>0</th>\n",
       "      <td>Registro Nacional de las Personas Naturales</td>\n",
       "      <td>RNPN</td>\n",
       "      <td>rnpn</td>\n",
       "    </tr>\n",
       "    <tr>\n",
       "      <th>1</th>\n",
       "      <td>Instituto Nacional de los Deportes de El Salvador</td>\n",
       "      <td>INDES</td>\n",
       "      <td>indes</td>\n",
       "    </tr>\n",
       "    <tr>\n",
       "      <th>2</th>\n",
       "      <td>Instituto Salvadoreño para el Desarrollo de la...</td>\n",
       "      <td>ISDEMU</td>\n",
       "      <td>isdemu</td>\n",
       "    </tr>\n",
       "    <tr>\n",
       "      <th>3</th>\n",
       "      <td>Fondo de Inversión Social para el Desarrollo L...</td>\n",
       "      <td>FISDL / FINET</td>\n",
       "      <td>fisdl-finet</td>\n",
       "    </tr>\n",
       "    <tr>\n",
       "      <th>4</th>\n",
       "      <td>Fondo Solidario para la Familia Microempresaria</td>\n",
       "      <td>FOSOFAMILIA</td>\n",
       "      <td>fosofamilia</td>\n",
       "    </tr>\n",
       "    <tr>\n",
       "      <th>...</th>\n",
       "      <td>...</td>\n",
       "      <td>...</td>\n",
       "      <td>...</td>\n",
       "    </tr>\n",
       "    <tr>\n",
       "      <th>95</th>\n",
       "      <td>Alcaldía Municipal de El Porvenir</td>\n",
       "      <td>El Porvenir, Santa Ana</td>\n",
       "      <td>el-porvenir-santa-ana</td>\n",
       "    </tr>\n",
       "    <tr>\n",
       "      <th>96</th>\n",
       "      <td>Alcaldía Municipal de Candelaria</td>\n",
       "      <td>Candelaria, Cuscatlán</td>\n",
       "      <td>candelaria-cuscatlán</td>\n",
       "    </tr>\n",
       "    <tr>\n",
       "      <th>97</th>\n",
       "      <td>Alcaldía Municipal de San Pedro Masahuat</td>\n",
       "      <td>San Pedro Masahuat, La Paz</td>\n",
       "      <td>san-pedro-masahuat-la-paz</td>\n",
       "    </tr>\n",
       "    <tr>\n",
       "      <th>98</th>\n",
       "      <td>Alcaldía Municipal de Santiago Texancuangos</td>\n",
       "      <td>Santiago Texancuangos, San Salvador</td>\n",
       "      <td>santiago-texancuangos-san-salvador</td>\n",
       "    </tr>\n",
       "    <tr>\n",
       "      <th>99</th>\n",
       "      <td>Alcaldía Municipal de Pasaquina</td>\n",
       "      <td>Pasaquina, La Unión</td>\n",
       "      <td>pasaquina-la-unión</td>\n",
       "    </tr>\n",
       "  </tbody>\n",
       "</table>\n",
       "<p>100 rows × 3 columns</p>\n",
       "</div>"
      ],
      "text/plain": [
       "                                                 name  \\\n",
       "0         Registro Nacional de las Personas Naturales   \n",
       "1   Instituto Nacional de los Deportes de El Salvador   \n",
       "2   Instituto Salvadoreño para el Desarrollo de la...   \n",
       "3   Fondo de Inversión Social para el Desarrollo L...   \n",
       "4     Fondo Solidario para la Familia Microempresaria   \n",
       "..                                                ...   \n",
       "95                 Alcaldía Municipal de El Porvenir    \n",
       "96                   Alcaldía Municipal de Candelaria   \n",
       "97           Alcaldía Municipal de San Pedro Masahuat   \n",
       "98        Alcaldía Municipal de Santiago Texancuangos   \n",
       "99                    Alcaldía Municipal de Pasaquina   \n",
       "\n",
       "                                acronym                                 key  \n",
       "0                                  RNPN                                rnpn  \n",
       "1                                 INDES                               indes  \n",
       "2                                ISDEMU                              isdemu  \n",
       "3                         FISDL / FINET                         fisdl-finet  \n",
       "4                           FOSOFAMILIA                         fosofamilia  \n",
       "..                                  ...                                 ...  \n",
       "95               El Porvenir, Santa Ana               el-porvenir-santa-ana  \n",
       "96                Candelaria, Cuscatlán                candelaria-cuscatlán  \n",
       "97           San Pedro Masahuat, La Paz           san-pedro-masahuat-la-paz  \n",
       "98  Santiago Texancuangos, San Salvador  santiago-texancuangos-san-salvador  \n",
       "99                  Pasaquina, La Unión                  pasaquina-la-unión  \n",
       "\n",
       "[100 rows x 3 columns]"
      ]
     },
     "execution_count": 7,
     "metadata": {},
     "output_type": "execute_result"
    }
   ],
   "source": [
    "offices = pd.read_json('https://www.transparencia.gob.sv/api/v1/institutions.json')\n",
    "offices['key'] = offices['acronym'].apply(normalize_acronym)\n",
    "offices[['name', 'acronym', 'key']]"
   ]
  },
  {
   "cell_type": "markdown",
   "metadata": {},
   "source": [
    "## Compras y contrataciones"
   ]
  },
  {
   "cell_type": "code",
   "execution_count": 8,
   "metadata": {},
   "outputs": [],
   "source": [
    "def contract_detail(url):\n",
    "    page = html.fromstring(requests.get(url).text)\n",
    "    sections = page.xpath('/html/body/main/div/div/div[2]/div[2]/div/div/div')\n",
    "    labels = [sections[i].xpath('strong/text()')[0] for i in range(0, len(sections), 2)]\n",
    "    content = [sections[i].xpath('text()')[0].strip() for i in range(1, len(sections), 2)]\n",
    "    card = {labels[i]: content[i] for i in range(len(labels))}\n",
    "    card['Archivo adjunto'] = page.xpath('/html/body/main/div/div/div[2]/div[2]/div/div[12]/div[2]/a/@href')[0]\n",
    "    return card"
   ]
  },
  {
   "cell_type": "code",
   "execution_count": 9,
   "metadata": {},
   "outputs": [],
   "source": [
    "def contract_list(office):\n",
    "    contracts = []\n",
    "    url = 'https://www.transparencia.gob.sv/institutions/{}/contracts'.format(office)\n",
    "    # print(url)\n",
    "    page = html.fromstring(requests.get(url).text)\n",
    "    # contracts += page.xpath('/html/body/main/div/div/div[2]/div[1]/div[2]/div/div/a/@href')\n",
    "    contracts += page.xpath('//div[@class=\"columns small-24 medium-16 large-12\"]/a/@href')\n",
    "    pagination = page.xpath('//div[@class=\"pagination\"]/a/text()')\n",
    "    if len(pagination) > 0:\n",
    "        # print(pagination)\n",
    "        last_page = int(pagination[pagination.index('Siguiente') - 1])\n",
    "        # print('pages', last_page)\n",
    "        for i in range(2, last_page + 1):\n",
    "            page = html.fromstring(requests.get(url + '?page=%d' % i).text)\n",
    "            # contracts += page.xpath('/html/body/main/div/div/div[2]/div[1]/div[2]/div/div/a/@href')\n",
    "            contracts += page.xpath('//div[@class=\"columns small-24 medium-16 large-12\"]/a/@href')\n",
    "    return contracts"
   ]
  },
  {
   "cell_type": "code",
   "execution_count": 10,
   "metadata": {},
   "outputs": [],
   "source": [
    "def build_list():\n",
    "    offices = pd.read_json('https://www.transparencia.gob.sv/api/v1/institutions.json')\n",
    "    offices['key'] = offices['acronym'].apply(normalize_acronym)\n",
    "    offices[['key', 'name']].to_csv('offices.csv', index=False)\n",
    "    dfs = []\n",
    "    for k in offices['key'].values:\n",
    "        try:\n",
    "            cl = contract_list(k)\n",
    "            dfs.append(pd.DataFrame({'office': k, 'list': cl}))\n",
    "            print(k, ':', len(cl))\n",
    "        except:\n",
    "            print(k, ': failed')\n",
    "    return pd.concat(dfs)"
   ]
  },
  {
   "cell_type": "code",
   "execution_count": null,
   "metadata": {},
   "outputs": [
    {
     "name": "stdout",
     "output_type": "stream",
     "text": [
      "rnpn : failed\n",
      "indes : failed\n",
      "isdemu : 0\n",
      "fisdl-finet : 0\n",
      "fosofamilia : 383\n",
      "mh : 0\n",
      "lnb : 286\n"
     ]
    }
   ],
   "source": [
    "cl = build_list()"
   ]
  },
  {
   "cell_type": "code",
   "execution_count": 10,
   "metadata": {},
   "outputs": [],
   "source": [
    "cl.to_csv('list.csv', index=False)\n"
   ]
  },
  {
   "cell_type": "code",
   "execution_count": 11,
   "metadata": {},
   "outputs": [
    {
     "data": {
      "text/plain": [
       "83130"
      ]
     },
     "execution_count": 11,
     "metadata": {},
     "output_type": "execute_result"
    }
   ],
   "source": [
    "cl = pd.read_csv('list.csv')\n",
    "len(cl)"
   ]
  },
  {
   "cell_type": "code",
   "execution_count": 14,
   "metadata": {},
   "outputs": [
    {
     "name": "stdout",
     "output_type": "stream",
     "text": [
      "99 rnpn\r"
     ]
    }
   ],
   "source": [
    "contracts = []\n",
    "for i, j in cl[:100].iterrows():\n",
    "    try:\n",
    "        contract = contract_detail(cl.iloc[i]['list'])\n",
    "        contract['office'] = cl.iloc[i]['office']\n",
    "        contracts.append(contract)\n",
    "        print(i, contract['office'], end='\\r')\n",
    "    except:\n",
    "        pass            "
   ]
  },
  {
   "cell_type": "code",
   "execution_count": 17,
   "metadata": {},
   "outputs": [],
   "source": [
    "pd.DataFrame(contracts).to_csv('contracts.csv')"
   ]
  },
  {
   "cell_type": "code",
   "execution_count": null,
   "metadata": {},
   "outputs": [],
   "source": []
  }
 ],
 "metadata": {
  "kernelspec": {
   "display_name": "Python 3",
   "language": "python",
   "name": "python3"
  },
  "language_info": {
   "codemirror_mode": {
    "name": "ipython",
    "version": 3
   },
   "file_extension": ".py",
   "mimetype": "text/x-python",
   "name": "python",
   "nbconvert_exporter": "python",
   "pygments_lexer": "ipython3",
   "version": "3.8.3"
  }
 },
 "nbformat": 4,
 "nbformat_minor": 4
}
