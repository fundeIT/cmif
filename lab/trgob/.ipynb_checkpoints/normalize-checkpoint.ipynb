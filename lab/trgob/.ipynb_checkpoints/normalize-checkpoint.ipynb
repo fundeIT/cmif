{
 "cells": [
  {
   "cell_type": "markdown",
   "metadata": {},
   "source": [
    "# Normalizing transparencia.gob.sv public procurement dataset\n",
    "\n",
    "The purpose of this notebook is to make normalization in public procurement data obtained from `transparencia.gob.sv`.\n",
    "\n",
    "Data was obtained using scripts:\n",
    "\n",
    "- `build_list` makes a list of public procurement orders recorded in that website\n",
    "- `getcontracts` retrives data for each contract and creates the dataset\n",
    "\n",
    "In this notebook, following normalizations are done:\n",
    "\n",
    "- Column names are standarized\n",
    "- Order amounts are converted from string to numeric\n",
    "- Supplier name are standarized\n",
    "- Order dates are converted to YYYY-MM-DD\n",
    "- Order modes are associated to standard categories\n",
    "- Order links are converted to a direct usable form\n",
    "\n",
    "Output is saved to `normalized_contracts.csv`.\n",
    "\n",
    "TODO:\n",
    "\n",
    "- Improve scripts to retrieve data from `transparencia.gob.sv`\n",
    "- Build a probabilistic model to associated supplier names"
   ]
  },
  {
   "cell_type": "markdown",
   "metadata": {},
   "source": [
    "## Data load"
   ]
  },
  {
   "cell_type": "code",
   "execution_count": 1,
   "metadata": {},
   "outputs": [],
   "source": [
    "import pandas as pd\n",
    "import unidecode"
   ]
  },
  {
   "cell_type": "code",
   "execution_count": 2,
   "metadata": {},
   "outputs": [
    {
     "data": {
      "text/html": [
       "<div>\n",
       "<style scoped>\n",
       "    .dataframe tbody tr th:only-of-type {\n",
       "        vertical-align: middle;\n",
       "    }\n",
       "\n",
       "    .dataframe tbody tr th {\n",
       "        vertical-align: top;\n",
       "    }\n",
       "\n",
       "    .dataframe thead th {\n",
       "        text-align: right;\n",
       "    }\n",
       "</style>\n",
       "<table border=\"1\" class=\"dataframe\">\n",
       "  <thead>\n",
       "    <tr style=\"text-align: right;\">\n",
       "      <th></th>\n",
       "      <th>Código de adquisición o contratación</th>\n",
       "      <th>Área institucional</th>\n",
       "      <th>Objeto</th>\n",
       "      <th>Monto</th>\n",
       "      <th>Nombre de la contraparte</th>\n",
       "      <th>Plazos de cumplimiento</th>\n",
       "      <th>Tipo de contratación</th>\n",
       "      <th>Fecha de contrato / Órden de compra</th>\n",
       "      <th>Código de contrato / Órden de compra</th>\n",
       "      <th>Características de la contraparte</th>\n",
       "      <th>Archivo adjunto</th>\n",
       "      <th>Fecha de creación</th>\n",
       "      <th>Fecha de última actualización</th>\n",
       "      <th>office</th>\n",
       "    </tr>\n",
       "  </thead>\n",
       "  <tbody>\n",
       "    <tr>\n",
       "      <th>count</th>\n",
       "      <td>53350</td>\n",
       "      <td>39060</td>\n",
       "      <td>75212</td>\n",
       "      <td>75214</td>\n",
       "      <td>70720</td>\n",
       "      <td>74730</td>\n",
       "      <td>75107</td>\n",
       "      <td>74897</td>\n",
       "      <td>59639</td>\n",
       "      <td>74976</td>\n",
       "      <td>75214</td>\n",
       "      <td>75214</td>\n",
       "      <td>75214</td>\n",
       "      <td>75214</td>\n",
       "    </tr>\n",
       "    <tr>\n",
       "      <th>unique</th>\n",
       "      <td>26327</td>\n",
       "      <td>1622</td>\n",
       "      <td>48083</td>\n",
       "      <td>38378</td>\n",
       "      <td>21854</td>\n",
       "      <td>22478</td>\n",
       "      <td>3978</td>\n",
       "      <td>2493</td>\n",
       "      <td>43836</td>\n",
       "      <td>7022</td>\n",
       "      <td>74056</td>\n",
       "      <td>1199</td>\n",
       "      <td>699</td>\n",
       "      <td>69</td>\n",
       "    </tr>\n",
       "    <tr>\n",
       "      <th>top</th>\n",
       "      <td>OC</td>\n",
       "      <td>SALUD</td>\n",
       "      <td>SERVICIO DE ALIMENTACIÓN</td>\n",
       "      <td>$600.00</td>\n",
       "      <td>50001612   NIPRO MEDICAL CORPORATION SUC. EL S</td>\n",
       "      <td>31/12/2018</td>\n",
       "      <td>LIBRE GESTION</td>\n",
       "      <td>05 de noviembre de 2015</td>\n",
       "      <td>4618000780</td>\n",
       "      <td>PERSONA JURIDICA</td>\n",
       "      <td>/system/procurements/attachments/000/108/591/o...</td>\n",
       "      <td>10/04/2019</td>\n",
       "      <td>18/07/2017</td>\n",
       "      <td>isss</td>\n",
       "    </tr>\n",
       "    <tr>\n",
       "      <th>freq</th>\n",
       "      <td>3712</td>\n",
       "      <td>2192</td>\n",
       "      <td>230</td>\n",
       "      <td>447</td>\n",
       "      <td>627</td>\n",
       "      <td>3610</td>\n",
       "      <td>16092</td>\n",
       "      <td>476</td>\n",
       "      <td>291</td>\n",
       "      <td>13432</td>\n",
       "      <td>5</td>\n",
       "      <td>1887</td>\n",
       "      <td>7610</td>\n",
       "      <td>16512</td>\n",
       "    </tr>\n",
       "  </tbody>\n",
       "</table>\n",
       "</div>"
      ],
      "text/plain": [
       "       Código de adquisición o contratación Área institucional  \\\n",
       "count                                 53350              39060   \n",
       "unique                                26327               1622   \n",
       "top                                      OC              SALUD   \n",
       "freq                                   3712               2192   \n",
       "\n",
       "                          Objeto    Monto  \\\n",
       "count                      75212    75214   \n",
       "unique                     48083    38378   \n",
       "top     SERVICIO DE ALIMENTACIÓN  $600.00   \n",
       "freq                         230      447   \n",
       "\n",
       "                              Nombre de la contraparte Plazos de cumplimiento  \\\n",
       "count                                            70720                  74730   \n",
       "unique                                           21854                  22478   \n",
       "top     50001612   NIPRO MEDICAL CORPORATION SUC. EL S             31/12/2018   \n",
       "freq                                               627                   3610   \n",
       "\n",
       "       Tipo de contratación Fecha de contrato / Órden de compra  \\\n",
       "count                 75107                               74897   \n",
       "unique                 3978                                2493   \n",
       "top           LIBRE GESTION             05 de noviembre de 2015   \n",
       "freq                  16092                                 476   \n",
       "\n",
       "       Código de contrato / Órden de compra Características de la contraparte  \\\n",
       "count                                 59639                             74976   \n",
       "unique                                43836                              7022   \n",
       "top                              4618000780                  PERSONA JURIDICA   \n",
       "freq                                    291                             13432   \n",
       "\n",
       "                                          Archivo adjunto Fecha de creación  \\\n",
       "count                                               75214             75214   \n",
       "unique                                              74056              1199   \n",
       "top     /system/procurements/attachments/000/108/591/o...        10/04/2019   \n",
       "freq                                                    5              1887   \n",
       "\n",
       "       Fecha de última actualización office  \n",
       "count                          75214  75214  \n",
       "unique                           699     69  \n",
       "top                       18/07/2017   isss  \n",
       "freq                            7610  16512  "
      ]
     },
     "execution_count": 2,
     "metadata": {},
     "output_type": "execute_result"
    }
   ],
   "source": [
    "data = pd.read_csv('contracts.csv')\n",
    "data.describe()"
   ]
  },
  {
   "cell_type": "markdown",
   "metadata": {},
   "source": [
    "## Column names standarization"
   ]
  },
  {
   "cell_type": "code",
   "execution_count": 3,
   "metadata": {},
   "outputs": [],
   "source": [
    "data.rename(columns={\n",
    "    'Código de adquisición o contratación': 'code',\n",
    "    'Área institucional': 'request_office',\n",
    "    'Objeto': 'description',\n",
    "    'Monto': 'amount',\n",
    "    'Nombre de la contraparte': 'supplier_name',\n",
    "    'Tipo de contratación': 'order_mode',\n",
    "    'Fecha de contrato / Órden de compra': 'order_date',\n",
    "    'Código de contrato / Órden de compra': 'order_code',\n",
    "    'Características de la contraparte': 'supplier_kind',\n",
    "    'Archivo adjunto': 'order_link',\n",
    "}, inplace=True)"
   ]
  },
  {
   "cell_type": "code",
   "execution_count": 4,
   "metadata": {},
   "outputs": [
    {
     "data": {
      "text/plain": [
       "Index(['code', 'request_office', 'description', 'amount', 'supplier_name',\n",
       "       'Plazos de cumplimiento', 'order_mode', 'order_date', 'order_code',\n",
       "       'supplier_kind', 'order_link', 'Fecha de creación',\n",
       "       'Fecha de última actualización', 'office'],\n",
       "      dtype='object')"
      ]
     },
     "execution_count": 4,
     "metadata": {},
     "output_type": "execute_result"
    }
   ],
   "source": [
    "data.columns"
   ]
  },
  {
   "cell_type": "markdown",
   "metadata": {},
   "source": [
    "## Order amounts to numeric"
   ]
  },
  {
   "cell_type": "code",
   "execution_count": 5,
   "metadata": {},
   "outputs": [
    {
     "data": {
      "text/plain": [
       "dtype('float64')"
      ]
     },
     "execution_count": 5,
     "metadata": {},
     "output_type": "execute_result"
    }
   ],
   "source": [
    "data['amount'] = pd.to_numeric(\n",
    "    data.amount\\\n",
    "        .str.replace('$', '')\\\n",
    "        .str.replace(',', '')\n",
    ")\n",
    "data['amount'].dtype"
   ]
  },
  {
   "cell_type": "markdown",
   "metadata": {},
   "source": [
    "## Supplier names normalization"
   ]
  },
  {
   "cell_type": "code",
   "execution_count": 6,
   "metadata": {},
   "outputs": [
    {
     "data": {
      "text/plain": [
       "0                           DATA GRAPHICS\n",
       "1        CARLOS REMBERTO VILLEGAS MORALES\n",
       "2                                JUGUESAL\n",
       "3                    NATANAEL LOPEZ GOMEZ\n",
       "4                     INVERSIONES MONTOYA\n",
       "                       ...               \n",
       "75209                                    \n",
       "75210                                    \n",
       "75211                                    \n",
       "75212                                    \n",
       "75213                                    \n",
       "Name: supplier_name_norm, Length: 75214, dtype: object"
      ]
     },
     "execution_count": 6,
     "metadata": {},
     "output_type": "execute_result"
    }
   ],
   "source": [
    "data['supplier_name_norm'] = data['supplier_name']\\\n",
    "    .str.upper()\\\n",
    "    .str.replace('[^\\w\\s]', '', regex=True)\\\n",
    "    .str.replace('\\s+', ' ', regex=True)\\\n",
    "    .str.replace('SA DE CV', '')\\\n",
    "    .str.strip()\\\n",
    "    .apply(lambda s: unidecode.unidecode(str(s)))\\\n",
    "    .str.replace('nan', '')\n",
    "data['supplier_name_norm']"
   ]
  },
  {
   "cell_type": "markdown",
   "metadata": {},
   "source": [
    "## Order dates normalization"
   ]
  },
  {
   "cell_type": "code",
   "execution_count": 7,
   "metadata": {},
   "outputs": [],
   "source": [
    "def date_convert(s):\n",
    "    months = [\n",
    "        'enero', 'febrero', 'marzo', \n",
    "        'abril', 'mayo', 'junio', \n",
    "        'julio', 'agosto', 'septiembre', \n",
    "        'octubre', 'noviembre', 'diciembre'\n",
    "    ]\n",
    "    try:\n",
    "        l = str(s).split()\n",
    "        return \"{}-{}-{}\".format(\n",
    "            l[4].zfill(4),\n",
    "            str(months.index(l[2]) + 1).zfill(2),\n",
    "            l[0].zfill(2)\n",
    "        )\n",
    "    except:\n",
    "        return ''"
   ]
  },
  {
   "cell_type": "code",
   "execution_count": 8,
   "metadata": {},
   "outputs": [],
   "source": [
    "data['order_date_norm'] = data['order_date'].apply(date_convert)\n",
    "data['year'] = data['order_date_norm'].apply(lambda s: s[:4])"
   ]
  },
  {
   "cell_type": "code",
   "execution_count": 9,
   "metadata": {},
   "outputs": [
    {
     "data": {
      "text/plain": [
       "array(['2019', '2018', '2017', '2016', '2015', '2014', '2020', '2010', '',\n",
       "       '2000', '2009', '2012', '2013', '1995', '2002', '2005', '2004',\n",
       "       '2003', '2011', '2007', '2063', '2918', '2006', '1979'],\n",
       "      dtype=object)"
      ]
     },
     "execution_count": 9,
     "metadata": {},
     "output_type": "execute_result"
    }
   ],
   "source": [
    "data['year'].unique()"
   ]
  },
  {
   "cell_type": "markdown",
   "metadata": {},
   "source": [
    "## Order modes categorization"
   ]
  },
  {
   "cell_type": "code",
   "execution_count": 10,
   "metadata": {},
   "outputs": [],
   "source": [
    "order_modes = ['LIBRE GESTION', 'LICITACION', 'CONTRATACION DIRECTA', 'PRORROGA']\n",
    "\n",
    "data['order_mode_norm'] = data['order_mode'] \\\n",
    "    .str.upper() \\\n",
    "    .apply(lambda s: unidecode.unidecode(str(s))) \\\n",
    "    .str.replace('.*LIBRE GESTION.*', order_modes[0], regex=True) \\\n",
    "    .str.replace('.*LICI.*', order_modes[1], regex=True) \\\n",
    "    .str.replace('.*DIRECTA.*', order_modes[2], regex=True) \\\n",
    "    .str.replace('.*PRORROGA.*', order_modes[3], regex=True) \\\n",
    "    .apply(lambda s: s if s in order_modes else 'OTRA')"
   ]
  },
  {
   "cell_type": "markdown",
   "metadata": {},
   "source": [
    "## Order links to a usable form"
   ]
  },
  {
   "cell_type": "code",
   "execution_count": 11,
   "metadata": {},
   "outputs": [],
   "source": [
    "data['order_link'] = data['order_link'].apply(lambda s: 'https://transparencia.gob.sv' + s)"
   ]
  },
  {
   "cell_type": "markdown",
   "metadata": {},
   "source": [
    "## Saving output"
   ]
  },
  {
   "cell_type": "code",
   "execution_count": 12,
   "metadata": {},
   "outputs": [],
   "source": [
    "data.to_csv('normalized_contracts.csv')"
   ]
  },
  {
   "cell_type": "markdown",
   "metadata": {},
   "source": [
    "## History\n",
    "\n",
    "2020-08-26: This notebook was created."
   ]
  },
  {
   "cell_type": "code",
   "execution_count": null,
   "metadata": {},
   "outputs": [],
   "source": []
  }
 ],
 "metadata": {
  "kernelspec": {
   "display_name": "Python 3",
   "language": "python",
   "name": "python3"
  },
  "language_info": {
   "codemirror_mode": {
    "name": "ipython",
    "version": 3
   },
   "file_extension": ".py",
   "mimetype": "text/x-python",
   "name": "python",
   "nbconvert_exporter": "python",
   "pygments_lexer": "ipython3",
   "version": "3.8.5"
  }
 },
 "nbformat": 4,
 "nbformat_minor": 4
}
