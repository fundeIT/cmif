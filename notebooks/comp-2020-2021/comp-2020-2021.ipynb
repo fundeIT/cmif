{
 "cells": [
  {
   "cell_type": "markdown",
   "metadata": {},
   "source": [
    "# Comparación Presupuestos 2020-2021\n",
    "\n",
    "Noviembre, 2020"
   ]
  },
  {
   "cell_type": "code",
   "execution_count": 1,
   "metadata": {},
   "outputs": [],
   "source": [
    "import sqlite3\n",
    "import pandas as pd\n",
    "import json"
   ]
  },
  {
   "cell_type": "code",
   "execution_count": 2,
   "metadata": {},
   "outputs": [],
   "source": [
    "DB = \"../../prep/budget.db\"\n",
    "conn = sqlite3.connect(DB)"
   ]
  },
  {
   "cell_type": "code",
   "execution_count": 10,
   "metadata": {},
   "outputs": [],
   "source": [
    "sql_stmt = \"\"\"\n",
    "    SELECT office, unit, SUBSTR(object, 1, 2) AS object, SUM(amount) AS amount\n",
    "        FROM budget \n",
    "        WHERE year={} AND moment='{}'\n",
    "        GROUP BY office, unit, object\n",
    "\"\"\""
   ]
  },
  {
   "cell_type": "code",
   "execution_count": 16,
   "metadata": {},
   "outputs": [],
   "source": [
    "def adjust_office_name(name):\n",
    "    return name\\\n",
    "        .replace('RAMO DE LA ', '') \\\n",
    "        .replace('RAMO DE', '') \\\n",
    "        .replace(' DE LA REPUBLICA', '') \\\n",
    "        .replace('HOSPITAL NACIONAL', 'HOSP') \\\n",
    "        .replace('INSTITUTO', 'INST') \\\n",
    "        .replace('SALVADORE¥O', 'SALV')"
   ]
  },
  {
   "cell_type": "code",
   "execution_count": 17,
   "metadata": {},
   "outputs": [],
   "source": [
    "def add_office_names(ds):\n",
    "    offices = pd.read_sql(\"SELECT * FROM office\", conn)\n",
    "    offices['office_name'] = offices['office_name'].apply(adjust_office_name)\n",
    "    heads = pd.read_sql('SELECT * FROM object', conn)\n",
    "    ds = ds.merge(offices, on='office').merge(heads, on='object')\n",
    "    a_unit = '10'\n",
    "    b_unit = '20'\n",
    "    for i, r in ds.iterrows():\n",
    "        if r.office == '0700':\n",
    "            if r.unit >= a_unit and r.unit <= b_unit:\n",
    "                ds.loc[i, 'office_name'] = 'TRANSFERENCIAS Y OBLIGACIONES GENERALES'\n",
    "            elif r.unit > b_unit:\n",
    "                ds.loc[i, 'office_name'] = 'DEUDA PÚBLICA'\n",
    "    ds = ds.groupby(['office', 'office_name', 'level', 'object', 'object_name']).sum()['amount'].reset_index()\n",
    "    return ds"
   ]
  },
  {
   "cell_type": "code",
   "execution_count": 18,
   "metadata": {},
   "outputs": [],
   "source": [
    "p2021 = add_office_names(pd.read_sql(sql_stmt.format(2021, 'PR'), conn))\n",
    "p2020 = add_office_names(pd.read_sql(sql_stmt.format(2020, 'AP'), conn))\n",
    "comp = p2020.merge(p2021, on=['office', 'office_name',  'level', 'object', 'object_name'])\n",
    "comp.rename(columns={'amount_x': 'enacted_2020', 'amount_y': 'proposed_2021'}, inplace=True)\n",
    "comp['diff'] = comp['proposed_2021'] - comp['enacted_2020']\n",
    "comp.to_csv('comparative.csv', index=False)"
   ]
  },
  {
   "cell_type": "code",
   "execution_count": 21,
   "metadata": {},
   "outputs": [
    {
     "data": {
      "text/html": [
       "<div>\n",
       "<style scoped>\n",
       "    .dataframe tbody tr th:only-of-type {\n",
       "        vertical-align: middle;\n",
       "    }\n",
       "\n",
       "    .dataframe tbody tr th {\n",
       "        vertical-align: top;\n",
       "    }\n",
       "\n",
       "    .dataframe thead th {\n",
       "        text-align: right;\n",
       "    }\n",
       "</style>\n",
       "<table border=\"1\" class=\"dataframe\">\n",
       "  <thead>\n",
       "    <tr style=\"text-align: right;\">\n",
       "      <th></th>\n",
       "      <th>office</th>\n",
       "      <th>office_name</th>\n",
       "      <th>level</th>\n",
       "      <th>object</th>\n",
       "      <th>object_name</th>\n",
       "      <th>enacted_2020</th>\n",
       "      <th>proposed_2021</th>\n",
       "      <th>diff</th>\n",
       "    </tr>\n",
       "  </thead>\n",
       "  <tbody>\n",
       "    <tr>\n",
       "      <th>0</th>\n",
       "      <td>0200</td>\n",
       "      <td>CORTE DE CUENTAS</td>\n",
       "      <td>CG</td>\n",
       "      <td>51</td>\n",
       "      <td>Remuneraciones</td>\n",
       "      <td>34417115.0</td>\n",
       "      <td>34413575.0</td>\n",
       "      <td>-3540.0</td>\n",
       "    </tr>\n",
       "    <tr>\n",
       "      <th>1</th>\n",
       "      <td>0200</td>\n",
       "      <td>CORTE DE CUENTAS</td>\n",
       "      <td>CG</td>\n",
       "      <td>54</td>\n",
       "      <td>Adquisiciones de Bienes y Servicios</td>\n",
       "      <td>5627190.0</td>\n",
       "      <td>5189101.0</td>\n",
       "      <td>-438089.0</td>\n",
       "    </tr>\n",
       "    <tr>\n",
       "      <th>2</th>\n",
       "      <td>0200</td>\n",
       "      <td>CORTE DE CUENTAS</td>\n",
       "      <td>CG</td>\n",
       "      <td>55</td>\n",
       "      <td>Gastos Financieros y Otros</td>\n",
       "      <td>3062550.0</td>\n",
       "      <td>3205150.0</td>\n",
       "      <td>142600.0</td>\n",
       "    </tr>\n",
       "    <tr>\n",
       "      <th>3</th>\n",
       "      <td>0200</td>\n",
       "      <td>CORTE DE CUENTAS</td>\n",
       "      <td>CG</td>\n",
       "      <td>56</td>\n",
       "      <td>Transferencias Corrientes</td>\n",
       "      <td>13000.0</td>\n",
       "      <td>13000.0</td>\n",
       "      <td>0.0</td>\n",
       "    </tr>\n",
       "    <tr>\n",
       "      <th>4</th>\n",
       "      <td>0200</td>\n",
       "      <td>CORTE DE CUENTAS</td>\n",
       "      <td>CG</td>\n",
       "      <td>61</td>\n",
       "      <td>Inversiones en Activos Fijos</td>\n",
       "      <td>1152720.0</td>\n",
       "      <td>889030.0</td>\n",
       "      <td>-263690.0</td>\n",
       "    </tr>\n",
       "  </tbody>\n",
       "</table>\n",
       "</div>"
      ],
      "text/plain": [
       "  office       office_name level object                          object_name  \\\n",
       "0   0200  CORTE DE CUENTAS    CG     51                       Remuneraciones   \n",
       "1   0200  CORTE DE CUENTAS    CG     54  Adquisiciones de Bienes y Servicios   \n",
       "2   0200  CORTE DE CUENTAS    CG     55           Gastos Financieros y Otros   \n",
       "3   0200  CORTE DE CUENTAS    CG     56            Transferencias Corrientes   \n",
       "4   0200  CORTE DE CUENTAS    CG     61         Inversiones en Activos Fijos   \n",
       "\n",
       "   enacted_2020  proposed_2021      diff  \n",
       "0    34417115.0     34413575.0   -3540.0  \n",
       "1     5627190.0      5189101.0 -438089.0  \n",
       "2     3062550.0      3205150.0  142600.0  \n",
       "3       13000.0        13000.0       0.0  \n",
       "4     1152720.0       889030.0 -263690.0  "
      ]
     },
     "execution_count": 21,
     "metadata": {},
     "output_type": "execute_result"
    }
   ],
   "source": [
    "comp.head()"
   ]
  },
  {
   "cell_type": "code",
   "execution_count": 19,
   "metadata": {},
   "outputs": [],
   "source": [
    "value_fields = ['enacted_2020', 'proposed_2021', 'diff']\n",
    "\n",
    "def filter_offices(level):\n",
    "    return comp[comp.level == level].groupby(['office', 'office_name', 'level'])\\\n",
    "        .sum()[value_fields]\\\n",
    "        .reset_index()\\\n",
    "        .rename(columns={'office': 'code', 'office_name': 'name'})\\\n",
    "        .to_dict('records')\n",
    "\n",
    "rec = {\n",
    "    'name': 'root',\n",
    "    'cg': filter_offices('CG'),\n",
    "    'de': filter_offices('DE'),\n",
    "}\n",
    "\n",
    "for f in ['cg', 'de']:\n",
    "    \n",
    "    rec['head_' + f] = comp[comp.level == f.upper()].groupby(['object', 'object_name'])\\\n",
    "        .sum()[value_fields]\\\n",
    "        .reset_index()\\\n",
    "        .rename(columns={'object': 'code', 'object_name': 'name'})\\\n",
    "        .to_dict('records')\n",
    "    for r in rec[f]:\n",
    "        r['children'] = comp[comp.office_name ==  r['name']]\\\n",
    "            [['object', 'object_name'] + value_fields]\\\n",
    "            .rename(columns={'object': 'code', 'object_name': 'name'})\\\n",
    "            .to_dict('records')\n",
    "    for field in value_fields:\n",
    "        rec[field] = sum([value[field] for value in rec[f]])\n",
    "\n",
    "with open('comparative.json', 'w') as f:\n",
    "    json.dump(rec, f)"
   ]
  },
  {
   "cell_type": "code",
   "execution_count": 20,
   "metadata": {},
   "outputs": [
    {
     "data": {
      "text/plain": [
       "dict_keys(['name', 'cg', 'de', 'head_cg', 'enacted_2020', 'proposed_2021', 'diff', 'head_de'])"
      ]
     },
     "execution_count": 20,
     "metadata": {},
     "output_type": "execute_result"
    }
   ],
   "source": [
    "rec.keys()"
   ]
  },
  {
   "cell_type": "code",
   "execution_count": 49,
   "metadata": {},
   "outputs": [
    {
     "data": {
      "text/plain": [
       "array(['CG', 'DE'], dtype=object)"
      ]
     },
     "execution_count": 49,
     "metadata": {},
     "output_type": "execute_result"
    }
   ],
   "source": [
    "comp.level.unique()"
   ]
  },
  {
   "cell_type": "code",
   "execution_count": null,
   "metadata": {},
   "outputs": [],
   "source": []
  }
 ],
 "metadata": {
  "kernelspec": {
   "display_name": "Python 3",
   "language": "python",
   "name": "python3"
  },
  "language_info": {
   "codemirror_mode": {
    "name": "ipython",
    "version": 3
   },
   "file_extension": ".py",
   "mimetype": "text/x-python",
   "name": "python",
   "nbconvert_exporter": "python",
   "pygments_lexer": "ipython3",
   "version": "3.8.6"
  }
 },
 "nbformat": 4,
 "nbformat_minor": 4
}
