{
 "cells": [
  {
   "cell_type": "markdown",
   "metadata": {},
   "source": [
    "# Credibilidad de los presupuestos institucionales\n",
    "\n",
    "Diciembre 2019\n",
    "\n",
    "En este notebook se hace una estimación de la credibilidad de los presupuestos institucionales, a partir de la comparación entre el presupuesto ejecutado y el aprobado."
   ]
  },
  {
   "cell_type": "markdown",
   "metadata": {},
   "source": [
    "## A. Preparación\n",
    "\n",
    "En esta sección se configuran las librerías que se utilizarán para realizar los cálculos, se cargan los datos en memoria y se selección los registros que corresponden a las instituciones del gobierno central."
   ]
  },
  {
   "cell_type": "code",
   "execution_count": 1,
   "metadata": {},
   "outputs": [],
   "source": [
    "# Setup of libraries\n",
    "import pandas as pd\n",
    "import seaborn as sns\n",
    "import numpy as np"
   ]
  },
  {
   "cell_type": "code",
   "execution_count": 2,
   "metadata": {},
   "outputs": [],
   "source": [
    "# Loading data into memory\n",
    "data = pd.read_csv('budget.csv')"
   ]
  },
  {
   "cell_type": "code",
   "execution_count": 3,
   "metadata": {},
   "outputs": [
    {
     "name": "stdout",
     "output_type": "stream",
     "text": [
      "Número de oficinas: 24\n"
     ]
    }
   ],
   "source": [
    "# Selecting records from the central government\n",
    "data = data[data.Nivel == 'Gobierno central']\n",
    "print('Número de oficinas:', len(data.Oficina.unique()))"
   ]
  },
  {
   "cell_type": "markdown",
   "metadata": {},
   "source": [
    "## B. Cálculo de las DEP\n",
    "\n",
    "En esta sección se calculan las desviaciones de las estimaciones presupuestarias (DEP) con base en el cociente entre los presupuestos devengados y los presupuestos aprobados. Se suprimen los registros para los no se cuentan con valores y se muestra la distribución de frecuencia de las DEP."
   ]
  },
  {
   "cell_type": "code",
   "execution_count": 4,
   "metadata": {},
   "outputs": [],
   "source": [
    "# Calculating DEP\n",
    "data['DEP'] = data['5. Devengado'] / data['3. Aprobado'] - 1 "
   ]
  },
  {
   "cell_type": "code",
   "execution_count": 5,
   "metadata": {},
   "outputs": [],
   "source": [
    "# Removing invalid values\n",
    "df = data[~data['DEP'].isna() & (data['DEP'] != np.inf)]"
   ]
  },
  {
   "cell_type": "code",
   "execution_count": 6,
   "metadata": {},
   "outputs": [
    {
     "data": {
      "image/png": "[encoded data removed]",
      "text/plain": [
       "<Figure size 432x288 with 1 Axes>"
      ]
     },
     "metadata": {
      "needs_background": "light"
     },
     "output_type": "display_data"
    }
   ],
   "source": [
    "ax = sns.boxplot(x='Año', y='DEP', data=df)\n",
    "sns.despine(offset=10, trim=True)\n",
    "# ax.set_title('Distribución de las DEP por ejercicio fiscal')\n",
    "# ax.set_ylabel('Desviación de las estimaciones presupuestarias')\n",
    "ax.set_xlabel('Ejercicio fiscal')\n",
    "ax.figure.savefig('dist_by_year.png')"
   ]
  },
  {
   "cell_type": "code",
   "execution_count": 7,
   "metadata": {},
   "outputs": [
    {
     "data": {
      "text/plain": [
       "count    168.000000\n",
       "mean      -0.004757\n",
       "std        0.173910\n",
       "min       -0.583394\n",
       "25%       -0.067347\n",
       "50%       -0.023336\n",
       "75%        0.019842\n",
       "max        1.148915\n",
       "Name: DEP, dtype: float64"
      ]
     },
     "execution_count": 7,
     "metadata": {},
     "output_type": "execute_result"
    }
   ],
   "source": [
    "desc = df.DEP.describe()\n",
    "desc"
   ]
  },
  {
   "cell_type": "code",
   "execution_count": 8,
   "metadata": {},
   "outputs": [
    {
     "name": "stderr",
     "output_type": "stream",
     "text": [
      "/home/jailop/dev/cmif/lib/python3.8/site-packages/seaborn/distributions.py:2551: FutureWarning: `distplot` is a deprecated function and will be removed in a future version. Please adapt your code to use either `displot` (a figure-level function with similar flexibility) or `histplot` (an axes-level function for histograms).\n",
      "  warnings.warn(msg, FutureWarning)\n"
     ]
    },
    {
     "data": {
      "text/plain": [
       "<matplotlib.axes._subplots.AxesSubplot at 0x7f3e5fc64610>"
      ]
     },
     "execution_count": 8,
     "metadata": {},
     "output_type": "execute_result"
    },
    {
     "data": {
      "image/png": "[encoded data removed]",
      "text/plain": [
       "<Figure size 432x288 with 1 Axes>"
      ]
     },
     "metadata": {
      "needs_background": "light"
     },
     "output_type": "display_data"
    }
   ],
   "source": [
    "sns.distplot(df.DEP)"
   ]
  },
  {
   "cell_type": "markdown",
   "metadata": {},
   "source": [
    "## C. Cálculo del ICP e identificación de las desviaciones extremas\n",
    "\n",
    "En este sección se identifican las desviaciones extremas, es decir aquellas cuyo valor absoluto se encuentra más allá del valor del índice de credibilidad para cada ejercicio fiscal."
   ]
  },
  {
   "cell_type": "code",
   "execution_count": 9,
   "metadata": {},
   "outputs": [],
   "source": [
    "def outliers_by_office(outliers):\n",
    "    return outliers \\\n",
    "        .groupby(['Oficina', 'Nombre de la oficina']) \\\n",
    "        .count()['DEP'] \\\n",
    "        .sort_values(ascending=False)"
   ]
  },
  {
   "cell_type": "code",
   "execution_count": 10,
   "metadata": {},
   "outputs": [],
   "source": [
    "ts = df[['Año', 'Oficina', 'Nombre de la oficina', 'DEP']]\n",
    "ts.set_index(['Año', 'Oficina', 'Nombre de la oficina'], inplace=True)\n",
    "per_year = ts.unstack('Año')['DEP']"
   ]
  },
  {
   "cell_type": "code",
   "execution_count": 11,
   "metadata": {},
   "outputs": [
    {
     "data": {
      "text/html": [
       "<div>\n",
       "<style scoped>\n",
       "    .dataframe tbody tr th:only-of-type {\n",
       "        vertical-align: middle;\n",
       "    }\n",
       "\n",
       "    .dataframe tbody tr th {\n",
       "        vertical-align: top;\n",
       "    }\n",
       "\n",
       "    .dataframe thead th {\n",
       "        text-align: right;\n",
       "    }\n",
       "</style>\n",
       "<table border=\"1\" class=\"dataframe\">\n",
       "  <thead>\n",
       "    <tr style=\"text-align: right;\">\n",
       "      <th>Año</th>\n",
       "      <th>2012</th>\n",
       "      <th>2013</th>\n",
       "      <th>2014</th>\n",
       "      <th>2015</th>\n",
       "      <th>2016</th>\n",
       "      <th>2017</th>\n",
       "      <th>2018</th>\n",
       "    </tr>\n",
       "  </thead>\n",
       "  <tbody>\n",
       "    <tr>\n",
       "      <th>count</th>\n",
       "      <td>24.000000</td>\n",
       "      <td>24.000000</td>\n",
       "      <td>24.000000</td>\n",
       "      <td>24.000000</td>\n",
       "      <td>24.000000</td>\n",
       "      <td>24.000000</td>\n",
       "      <td>24.000000</td>\n",
       "    </tr>\n",
       "    <tr>\n",
       "      <th>mean</th>\n",
       "      <td>0.040503</td>\n",
       "      <td>-0.024062</td>\n",
       "      <td>-0.049716</td>\n",
       "      <td>0.020496</td>\n",
       "      <td>-0.050160</td>\n",
       "      <td>0.015846</td>\n",
       "      <td>0.013792</td>\n",
       "    </tr>\n",
       "    <tr>\n",
       "      <th>std</th>\n",
       "      <td>0.215312</td>\n",
       "      <td>0.190240</td>\n",
       "      <td>0.101339</td>\n",
       "      <td>0.251948</td>\n",
       "      <td>0.089852</td>\n",
       "      <td>0.174981</td>\n",
       "      <td>0.127897</td>\n",
       "    </tr>\n",
       "    <tr>\n",
       "      <th>min</th>\n",
       "      <td>-0.279323</td>\n",
       "      <td>-0.583394</td>\n",
       "      <td>-0.392869</td>\n",
       "      <td>-0.203182</td>\n",
       "      <td>-0.291324</td>\n",
       "      <td>-0.260916</td>\n",
       "      <td>-0.223481</td>\n",
       "    </tr>\n",
       "    <tr>\n",
       "      <th>25%</th>\n",
       "      <td>-0.054138</td>\n",
       "      <td>-0.105815</td>\n",
       "      <td>-0.086590</td>\n",
       "      <td>-0.050840</td>\n",
       "      <td>-0.078046</td>\n",
       "      <td>-0.043249</td>\n",
       "      <td>-0.053181</td>\n",
       "    </tr>\n",
       "    <tr>\n",
       "      <th>50%</th>\n",
       "      <td>-0.009580</td>\n",
       "      <td>-0.013345</td>\n",
       "      <td>-0.030831</td>\n",
       "      <td>-0.033852</td>\n",
       "      <td>-0.033946</td>\n",
       "      <td>0.005603</td>\n",
       "      <td>-0.004135</td>\n",
       "    </tr>\n",
       "    <tr>\n",
       "      <th>75%</th>\n",
       "      <td>0.039105</td>\n",
       "      <td>0.027875</td>\n",
       "      <td>-0.004169</td>\n",
       "      <td>0.017307</td>\n",
       "      <td>0.002134</td>\n",
       "      <td>0.044998</td>\n",
       "      <td>0.052824</td>\n",
       "    </tr>\n",
       "    <tr>\n",
       "      <th>max</th>\n",
       "      <td>0.833527</td>\n",
       "      <td>0.494255</td>\n",
       "      <td>0.146200</td>\n",
       "      <td>1.148915</td>\n",
       "      <td>0.144389</td>\n",
       "      <td>0.730221</td>\n",
       "      <td>0.359594</td>\n",
       "    </tr>\n",
       "  </tbody>\n",
       "</table>\n",
       "</div>"
      ],
      "text/plain": [
       "Año         2012       2013       2014       2015       2016       2017  \\\n",
       "count  24.000000  24.000000  24.000000  24.000000  24.000000  24.000000   \n",
       "mean    0.040503  -0.024062  -0.049716   0.020496  -0.050160   0.015846   \n",
       "std     0.215312   0.190240   0.101339   0.251948   0.089852   0.174981   \n",
       "min    -0.279323  -0.583394  -0.392869  -0.203182  -0.291324  -0.260916   \n",
       "25%    -0.054138  -0.105815  -0.086590  -0.050840  -0.078046  -0.043249   \n",
       "50%    -0.009580  -0.013345  -0.030831  -0.033852  -0.033946   0.005603   \n",
       "75%     0.039105   0.027875  -0.004169   0.017307   0.002134   0.044998   \n",
       "max     0.833527   0.494255   0.146200   1.148915   0.144389   0.730221   \n",
       "\n",
       "Año         2018  \n",
       "count  24.000000  \n",
       "mean    0.013792  \n",
       "std     0.127897  \n",
       "min    -0.223481  \n",
       "25%    -0.053181  \n",
       "50%    -0.004135  \n",
       "75%     0.052824  \n",
       "max     0.359594  "
      ]
     },
     "execution_count": 11,
     "metadata": {},
     "output_type": "execute_result"
    }
   ],
   "source": [
    "# Values of the distribution for DEP in each year\n",
    "desc = per_year.describe()\n",
    "desc"
   ]
  },
  {
   "cell_type": "markdown",
   "metadata": {},
   "source": [
    "Los índices de credibilidad del presupuesto corresponden a la desviación estándar."
   ]
  },
  {
   "cell_type": "code",
   "execution_count": 12,
   "metadata": {},
   "outputs": [
    {
     "data": {
      "text/plain": [
       "Año\n",
       "2012    0.215312\n",
       "2013    0.190240\n",
       "2014    0.101339\n",
       "2015    0.251948\n",
       "2016    0.089852\n",
       "2017    0.174981\n",
       "2018    0.127897\n",
       "Name: std, dtype: float64"
      ]
     },
     "execution_count": 12,
     "metadata": {},
     "output_type": "execute_result"
    }
   ],
   "source": [
    "desc.loc['std']"
   ]
  },
  {
   "cell_type": "code",
   "execution_count": 13,
   "metadata": {},
   "outputs": [],
   "source": [
    "desc_t = desc.transpose()"
   ]
  },
  {
   "cell_type": "code",
   "execution_count": 17,
   "metadata": {},
   "outputs": [
    {
     "data": {
      "text/plain": [
       "Text(0.5, 1.0, 'Eficiencia en la ejecución por año')"
      ]
     },
     "execution_count": 17,
     "metadata": {},
     "output_type": "execute_result"
    },
    {
     "data": {
      "image/png": "[encoded data removed]",
      "text/plain": [
       "<Figure size 432x288 with 1 Axes>"
      ]
     },
     "metadata": {
      "needs_background": "light"
     },
     "output_type": "display_data"
    }
   ],
   "source": [
    "ax = desc.loc['std'].plot(kind='bar', alpha=0.5, color='green')\n",
    "ax.set_ylabel('ICP')\n",
    "ax.figure.savefig('ICP.png')\n",
    "ax.set_title('Eficiencia en la ejecución por año')"
   ]
  },
  {
   "cell_type": "markdown",
   "metadata": {},
   "source": [
    "Las desviaciones extremas a la baja..."
   ]
  },
  {
   "cell_type": "code",
   "execution_count": 15,
   "metadata": {},
   "outputs": [],
   "source": [
    "lowers = per_year[per_year < desc.loc['mean'] - 1 * desc.loc['std']].dropna(how='all')\n",
    "lowers.to_csv('lower_outliers.csv')"
   ]
  },
  {
   "cell_type": "markdown",
   "metadata": {},
   "source": [
    "Las desviaciones extremas al alza..."
   ]
  },
  {
   "cell_type": "code",
   "execution_count": 16,
   "metadata": {},
   "outputs": [],
   "source": [
    "uppers = per_year[per_year > desc.loc['mean'] + 1 * desc.loc['std']].dropna(how='all')\n",
    "uppers.to_csv('upper_outliers.csv')"
   ]
  },
  {
   "cell_type": "code",
   "execution_count": 17,
   "metadata": {},
   "outputs": [
    {
     "data": {
      "text/html": [
       "<div>\n",
       "<style scoped>\n",
       "    .dataframe tbody tr th:only-of-type {\n",
       "        vertical-align: middle;\n",
       "    }\n",
       "\n",
       "    .dataframe tbody tr th {\n",
       "        vertical-align: top;\n",
       "    }\n",
       "\n",
       "    .dataframe thead th {\n",
       "        text-align: right;\n",
       "    }\n",
       "</style>\n",
       "<table border=\"1\" class=\"dataframe\">\n",
       "  <thead>\n",
       "    <tr style=\"text-align: right;\">\n",
       "      <th></th>\n",
       "      <th>Año</th>\n",
       "      <th>2012</th>\n",
       "      <th>2013</th>\n",
       "      <th>2014</th>\n",
       "      <th>2015</th>\n",
       "      <th>2016</th>\n",
       "      <th>2017</th>\n",
       "      <th>2018</th>\n",
       "    </tr>\n",
       "    <tr>\n",
       "      <th>Oficina</th>\n",
       "      <th>Nombre de la oficina</th>\n",
       "      <th></th>\n",
       "      <th></th>\n",
       "      <th></th>\n",
       "      <th></th>\n",
       "      <th></th>\n",
       "      <th></th>\n",
       "      <th></th>\n",
       "    </tr>\n",
       "  </thead>\n",
       "  <tbody>\n",
       "    <tr>\n",
       "      <th>300</th>\n",
       "      <th>TRIBUNAL SUPREMO ELECTORAL</th>\n",
       "      <td>NaN</td>\n",
       "      <td>-0.583394</td>\n",
       "      <td>-0.194211</td>\n",
       "      <td>NaN</td>\n",
       "      <td>NaN</td>\n",
       "      <td>-0.201532</td>\n",
       "      <td>NaN</td>\n",
       "    </tr>\n",
       "    <tr>\n",
       "      <th>600</th>\n",
       "      <th>TRIBUNAL DE ÉTICA GUBERNAMENTAL</th>\n",
       "      <td>-0.279323</td>\n",
       "      <td>NaN</td>\n",
       "      <td>NaN</td>\n",
       "      <td>NaN</td>\n",
       "      <td>NaN</td>\n",
       "      <td>NaN</td>\n",
       "      <td>NaN</td>\n",
       "    </tr>\n",
       "    <tr>\n",
       "      <th>1700</th>\n",
       "      <th>FISCALIA GENERAL DE LA REPUBLICA</th>\n",
       "      <td>NaN</td>\n",
       "      <td>NaN</td>\n",
       "      <td>NaN</td>\n",
       "      <td>NaN</td>\n",
       "      <td>-0.269741</td>\n",
       "      <td>NaN</td>\n",
       "      <td>-0.208812</td>\n",
       "    </tr>\n",
       "    <tr>\n",
       "      <th>4400</th>\n",
       "      <th>RAMO DE MEDIO AMBIENTE Y RECURSOS NATURALES</th>\n",
       "      <td>NaN</td>\n",
       "      <td>NaN</td>\n",
       "      <td>-0.392869</td>\n",
       "      <td>NaN</td>\n",
       "      <td>NaN</td>\n",
       "      <td>NaN</td>\n",
       "      <td>NaN</td>\n",
       "    </tr>\n",
       "    <tr>\n",
       "      <th>4600</th>\n",
       "      <th>RAMO DE TURISMO</th>\n",
       "      <td>NaN</td>\n",
       "      <td>NaN</td>\n",
       "      <td>NaN</td>\n",
       "      <td>NaN</td>\n",
       "      <td>-0.291324</td>\n",
       "      <td>-0.260916</td>\n",
       "      <td>-0.223481</td>\n",
       "    </tr>\n",
       "    <tr>\n",
       "      <th>300</th>\n",
       "      <th>TRIBUNAL SUPREMO ELECTORAL</th>\n",
       "      <td>0.364633</td>\n",
       "      <td>NaN</td>\n",
       "      <td>NaN</td>\n",
       "      <td>1.148915</td>\n",
       "      <td>0.144389</td>\n",
       "      <td>NaN</td>\n",
       "      <td>0.183936</td>\n",
       "    </tr>\n",
       "    <tr>\n",
       "      <th>500</th>\n",
       "      <th>PRESIDENCIA DE LA REPUBLICA</th>\n",
       "      <td>0.316926</td>\n",
       "      <td>0.278693</td>\n",
       "      <td>NaN</td>\n",
       "      <td>NaN</td>\n",
       "      <td>NaN</td>\n",
       "      <td>NaN</td>\n",
       "      <td>NaN</td>\n",
       "    </tr>\n",
       "    <tr>\n",
       "      <th>900</th>\n",
       "      <th>RAMO DE LA DEFENSA NACIONAL</th>\n",
       "      <td>NaN</td>\n",
       "      <td>NaN</td>\n",
       "      <td>NaN</td>\n",
       "      <td>NaN</td>\n",
       "      <td>NaN</td>\n",
       "      <td>NaN</td>\n",
       "      <td>0.237582</td>\n",
       "    </tr>\n",
       "    <tr>\n",
       "      <th>1700</th>\n",
       "      <th>FISCALIA GENERAL DE LA REPUBLICA</th>\n",
       "      <td>NaN</td>\n",
       "      <td>NaN</td>\n",
       "      <td>0.146200</td>\n",
       "      <td>NaN</td>\n",
       "      <td>NaN</td>\n",
       "      <td>NaN</td>\n",
       "      <td>NaN</td>\n",
       "    </tr>\n",
       "    <tr>\n",
       "      <th>2400</th>\n",
       "      <th>RAMO DE SEGURIDAD PUBLICA Y JUSTICIA</th>\n",
       "      <td>NaN</td>\n",
       "      <td>NaN</td>\n",
       "      <td>NaN</td>\n",
       "      <td>NaN</td>\n",
       "      <td>NaN</td>\n",
       "      <td>NaN</td>\n",
       "      <td>0.161001</td>\n",
       "    </tr>\n",
       "    <tr>\n",
       "      <th>4100</th>\n",
       "      <th>RAMO DE ECONOMIA</th>\n",
       "      <td>0.833527</td>\n",
       "      <td>0.494255</td>\n",
       "      <td>0.058566</td>\n",
       "      <td>NaN</td>\n",
       "      <td>NaN</td>\n",
       "      <td>0.730221</td>\n",
       "      <td>0.359594</td>\n",
       "    </tr>\n",
       "  </tbody>\n",
       "</table>\n",
       "</div>"
      ],
      "text/plain": [
       "Año                                                      2012      2013  \\\n",
       "Oficina Nombre de la oficina                                              \n",
       "300     TRIBUNAL SUPREMO ELECTORAL                        NaN -0.583394   \n",
       "600     TRIBUNAL DE ÉTICA GUBERNAMENTAL             -0.279323       NaN   \n",
       "1700    FISCALIA GENERAL DE LA REPUBLICA                  NaN       NaN   \n",
       "4400    RAMO DE MEDIO AMBIENTE Y RECURSOS NATURALES       NaN       NaN   \n",
       "4600    RAMO DE TURISMO                                   NaN       NaN   \n",
       "300     TRIBUNAL SUPREMO ELECTORAL                   0.364633       NaN   \n",
       "500     PRESIDENCIA DE LA REPUBLICA                  0.316926  0.278693   \n",
       "900     RAMO DE LA DEFENSA NACIONAL                       NaN       NaN   \n",
       "1700    FISCALIA GENERAL DE LA REPUBLICA                  NaN       NaN   \n",
       "2400    RAMO DE SEGURIDAD PUBLICA Y JUSTICIA              NaN       NaN   \n",
       "4100    RAMO DE ECONOMIA                             0.833527  0.494255   \n",
       "\n",
       "Año                                                      2014      2015  \\\n",
       "Oficina Nombre de la oficina                                              \n",
       "300     TRIBUNAL SUPREMO ELECTORAL                  -0.194211       NaN   \n",
       "600     TRIBUNAL DE ÉTICA GUBERNAMENTAL                   NaN       NaN   \n",
       "1700    FISCALIA GENERAL DE LA REPUBLICA                  NaN       NaN   \n",
       "4400    RAMO DE MEDIO AMBIENTE Y RECURSOS NATURALES -0.392869       NaN   \n",
       "4600    RAMO DE TURISMO                                   NaN       NaN   \n",
       "300     TRIBUNAL SUPREMO ELECTORAL                        NaN  1.148915   \n",
       "500     PRESIDENCIA DE LA REPUBLICA                       NaN       NaN   \n",
       "900     RAMO DE LA DEFENSA NACIONAL                       NaN       NaN   \n",
       "1700    FISCALIA GENERAL DE LA REPUBLICA             0.146200       NaN   \n",
       "2400    RAMO DE SEGURIDAD PUBLICA Y JUSTICIA              NaN       NaN   \n",
       "4100    RAMO DE ECONOMIA                             0.058566       NaN   \n",
       "\n",
       "Año                                                      2016      2017  \\\n",
       "Oficina Nombre de la oficina                                              \n",
       "300     TRIBUNAL SUPREMO ELECTORAL                        NaN -0.201532   \n",
       "600     TRIBUNAL DE ÉTICA GUBERNAMENTAL                   NaN       NaN   \n",
       "1700    FISCALIA GENERAL DE LA REPUBLICA            -0.269741       NaN   \n",
       "4400    RAMO DE MEDIO AMBIENTE Y RECURSOS NATURALES       NaN       NaN   \n",
       "4600    RAMO DE TURISMO                             -0.291324 -0.260916   \n",
       "300     TRIBUNAL SUPREMO ELECTORAL                   0.144389       NaN   \n",
       "500     PRESIDENCIA DE LA REPUBLICA                       NaN       NaN   \n",
       "900     RAMO DE LA DEFENSA NACIONAL                       NaN       NaN   \n",
       "1700    FISCALIA GENERAL DE LA REPUBLICA                  NaN       NaN   \n",
       "2400    RAMO DE SEGURIDAD PUBLICA Y JUSTICIA              NaN       NaN   \n",
       "4100    RAMO DE ECONOMIA                                  NaN  0.730221   \n",
       "\n",
       "Año                                                      2018  \n",
       "Oficina Nombre de la oficina                                   \n",
       "300     TRIBUNAL SUPREMO ELECTORAL                        NaN  \n",
       "600     TRIBUNAL DE ÉTICA GUBERNAMENTAL                   NaN  \n",
       "1700    FISCALIA GENERAL DE LA REPUBLICA            -0.208812  \n",
       "4400    RAMO DE MEDIO AMBIENTE Y RECURSOS NATURALES       NaN  \n",
       "4600    RAMO DE TURISMO                             -0.223481  \n",
       "300     TRIBUNAL SUPREMO ELECTORAL                   0.183936  \n",
       "500     PRESIDENCIA DE LA REPUBLICA                       NaN  \n",
       "900     RAMO DE LA DEFENSA NACIONAL                  0.237582  \n",
       "1700    FISCALIA GENERAL DE LA REPUBLICA                  NaN  \n",
       "2400    RAMO DE SEGURIDAD PUBLICA Y JUSTICIA         0.161001  \n",
       "4100    RAMO DE ECONOMIA                             0.359594  "
      ]
     },
     "execution_count": 17,
     "metadata": {},
     "output_type": "execute_result"
    }
   ],
   "source": [
    "outliers = pd.concat([lowers, uppers])\n",
    "outliers"
   ]
  },
  {
   "cell_type": "code",
   "execution_count": null,
   "metadata": {},
   "outputs": [],
   "source": []
  }
 ],
 "metadata": {
  "kernelspec": {
   "display_name": "Python 3",
   "language": "python",
   "name": "python3"
  },
  "language_info": {
   "codemirror_mode": {
    "name": "ipython",
    "version": 3
   },
   "file_extension": ".py",
   "mimetype": "text/x-python",
   "name": "python",
   "nbconvert_exporter": "python",
   "pygments_lexer": "ipython3",
   "version": "3.8.6"
  }
 },
 "nbformat": 4,
 "nbformat_minor": 4
}
