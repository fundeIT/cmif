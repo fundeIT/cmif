{
 "cells": [
  {
   "cell_type": "code",
   "execution_count": 1,
   "metadata": {},
   "outputs": [],
   "source": [
    "from selenium import webdriver\n",
    "from selenium.webdriver.firefox.options import Options\n",
    "import pandas as pd\n",
    "import re"
   ]
  },
  {
   "cell_type": "code",
   "execution_count": 2,
   "metadata": {},
   "outputs": [],
   "source": [
    "url = 'https://www.comprasal.gob.sv/comprasal_web/resultados'"
   ]
  },
  {
   "cell_type": "code",
   "execution_count": 3,
   "metadata": {},
   "outputs": [],
   "source": [
    "date_start_xpath = '//*[@id=\"comprasal_1:fecha_desde_input\"]'\n",
    "date_end_xpath = '//*[@id=\"comprasal_1:fecha_hasta_input\"]'\n",
    "search_xpath = '//*[@id=\"comprasal_1:j_idt105\"]'\n",
    "table_xpath = '//*[@id=\"comprasal_1:principal\"]'\n",
    "next_page_xpath = '/html/body/div[1]/div[2]/div/form/table/tbody/tr[1]/td/div/div[2]/a[3]'\n",
    "paginator_xpath = '/html/body/div[1]/div[2]/div/form/table/tbody/tr[1]/td/div/div[2]/span'"
   ]
  },
  {
   "cell_type": "code",
   "execution_count": 4,
   "metadata": {},
   "outputs": [],
   "source": [
    "driver = webdriver.Firefox()\n",
    "driver.implicitly_wait(3)\n",
    "driver.get(url)\n",
    "date_start = driver.find_element_by_xpath(date_start_xpath)\n",
    "date_end = driver.find_element_by_xpath(date_end_xpath)\n",
    "search = driver.find_element_by_xpath(search_xpath)\n",
    "date_start.send_keys('11/03/2020')\n",
    "date_end.send_keys('30/04/2020')\n",
    "search.click()"
   ]
  },
  {
   "cell_type": "code",
   "execution_count": 5,
   "metadata": {},
   "outputs": [
    {
     "data": {
      "text/plain": [
       "162"
      ]
     },
     "execution_count": 5,
     "metadata": {},
     "output_type": "execute_result"
    }
   ],
   "source": [
    "paginator = driver.find_element_by_xpath(paginator_xpath)\n",
    "paginator.text\n",
    "limit = int(re.findall('\\d+', paginator.text)[-1])\n",
    "limit"
   ]
  },
  {
   "cell_type": "code",
   "execution_count": 6,
   "metadata": {},
   "outputs": [],
   "source": [
    "tables = []\n",
    "for i in range(limit):\n",
    "    while True:\n",
    "        paginator = driver.find_element_by_xpath(paginator_xpath)\n",
    "        pos = int(re.findall('\\d+', paginator.text)[0])\n",
    "        if pos == i + 1:\n",
    "            break\n",
    "    table = driver.find_element_by_xpath(table_xpath)\n",
    "    content = table.get_attribute('innerHTML')\n",
    "    data = pd.read_html(content)\n",
    "    tables.append(data[0])\n",
    "    next_page = driver.find_element_by_xpath(next_page_xpath)\n",
    "    next_page.click()"
   ]
  },
  {
   "cell_type": "code",
   "execution_count": 8,
   "metadata": {},
   "outputs": [],
   "source": [
    "df = pd.concat(tables)\n",
    "df.to_csv('compras.csv', index=False)\n",
    "df.to_excel('compras.xlsx', index=False)"
   ]
  },
  {
   "cell_type": "code",
   "execution_count": null,
   "metadata": {},
   "outputs": [],
   "source": []
  },
  {
   "cell_type": "code",
   "execution_count": null,
   "metadata": {},
   "outputs": [],
   "source": []
  }
 ],
 "metadata": {
  "kernelspec": {
   "display_name": "Python 3",
   "language": "python",
   "name": "python3"
  },
  "language_info": {
   "codemirror_mode": {
    "name": "ipython",
    "version": 3
   },
   "file_extension": ".py",
   "mimetype": "text/x-python",
   "name": "python",
   "nbconvert_exporter": "python",
   "pygments_lexer": "ipython3",
   "version": "3.8.2"
  }
 },
 "nbformat": 4,
 "nbformat_minor": 4
}
